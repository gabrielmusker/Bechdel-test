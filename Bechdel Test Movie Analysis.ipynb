{
 "cells": [
  {
   "cell_type": "markdown",
   "metadata": {},
   "source": [
    "Below are the packages I've used in this analysis. Also, be warned, the 4th chunk took me a couple of minutes to run! You can speed it up by reducing the size of the random sample of movies (I used 200). Hopefully it won't break anything."
   ]
  },
  {
   "cell_type": "code",
   "execution_count": 2,
   "metadata": {},
   "outputs": [],
   "source": [
    "import requests\n",
    "import random\n",
    "import numpy as np\n",
    "import pandas as pd\n",
    "from matplotlib.pyplot import *\n",
    "from bs4 import BeautifulSoup"
   ]
  },
  {
   "cell_type": "markdown",
   "metadata": {},
   "source": [
    "The first thing we need to do is get a list of all of the available film names to iterate over."
   ]
  },
  {
   "cell_type": "code",
   "execution_count": 3,
   "metadata": {},
   "outputs": [
    {
     "name": "stdout",
     "output_type": "stream",
     "text": [
      "1210 movie titles have been retrieved.\n"
     ]
    }
   ],
   "source": [
    "# this code just downloads all of the code from the contents page and then prints all of\n",
    "# the titles one by one - each movie is stored in a <\"p\"> object so I just want to find \n",
    "# these and store them in an object I can iterate over.\n",
    "\n",
    "index_page = requests.get(\"https://www.imsdb.com/all%20scripts/\")\n",
    "index_page_content = BeautifulSoup(index_page.content, \"html.parser\")\n",
    "movie_title_list = index_page_content.find_all(\"p\")\n",
    "\n",
    "print(str(len(movie_title_list))+\" movie titles have been retrieved.\")"
   ]
  },
  {
   "cell_type": "markdown",
   "metadata": {},
   "source": [
    "So iterating over this entire list would be an issue because it would take forever. Instead we're just going to take a random sample of 200 movie titles and analyse those scripts instead."
   ]
  },
  {
   "cell_type": "code",
   "execution_count": 5,
   "metadata": {},
   "outputs": [],
   "source": [
    "movie_title_list_sub = random.sample(movie_title_list, 200)"
   ]
  },
  {
   "cell_type": "markdown",
   "metadata": {},
   "source": [
    "Almost all of the URLs for the pages with the scripts on have this format: https://www.imsdb.com/scripts/Black-Panther.html. The base URL is https://www.imsdb.com/scripts/, which is followed by the title of the movie with dashes in between each word. There are a few that are a little different (it's inconsistent about which punctuation is kept) but we can cross that bridge when we get to it. For now, we just want to replace all of the spaces (and colons) in the movie title list with dashes, and automatically generate the URLs from it.\n",
    "\n",
    "I'm going to store the film scripts as a dictonary so I can access the scripts by their title."
   ]
  },
  {
   "cell_type": "code",
   "execution_count": 6,
   "metadata": {},
   "outputs": [
    {
     "name": "stdout",
     "output_type": "stream",
     "text": [
      "Casablanca should go here, but for some reason the script doesn't exist, so it's been ignored.\n",
      "Dark Knight, The should go here, but for some reason the script doesn't exist, so it's been ignored.\n",
      "\n",
      "Finished!\n"
     ]
    }
   ],
   "source": [
    "movie_dictionary = {}\n",
    "\n",
    "for movie in movie_title_list_sub:\n",
    "    \n",
    "    # the movie titles are stored in these <\"a\"> structures, so I want to find them\n",
    "    # and put them into the correct format for a URL.\n",
    "    \n",
    "    movie_title = movie.find(\"a\")\n",
    "    movie_title_URL = movie_title.text.replace(\" \", \"-\").replace(\":\",\"\")\n",
    "    script_URL = \"https://www.imsdb.com/scripts/\"+movie_title_URL+\".html\"\n",
    "        \n",
    "    # then we want to download all of the code at each page, parse it through an HTML \n",
    "    # parser and then save just the scripts as a string - they're stored under an object\n",
    "    # of class \"scrtext\" on each page.\n",
    "        \n",
    "    movie_script = requests.get(script_URL)\n",
    "    parsed_movie_script = BeautifulSoup(movie_script.content, \"html.parser\")\n",
    "    final_script = parsed_movie_script.find(class_=\"scrtext\")\n",
    "    \n",
    "    # finally I want to store each of these scripts in an array - if one of them is empty\n",
    "    # though I don't want it to stop so instead it just continues and throws and AttributeError\n",
    "    \n",
    "    try:\n",
    "        \n",
    "        movie_dictionary[movie_title.text] = final_script.text\n",
    "    \n",
    "    except AttributeError:\n",
    "        \n",
    "        print(movie_title.text+\" should go here, but for some reason the script doesn't exist, so it's been ignored.\")\n",
    "        \n",
    "print(\"\\nFinished!\")"
   ]
  },
  {
   "cell_type": "markdown",
   "metadata": {},
   "source": [
    "The length of the dictionary will almost certainly be less than 200 because some of the scripts weren't properly downloaded from some reason, but that shouldn't matter too much."
   ]
  },
  {
   "cell_type": "code",
   "execution_count": 7,
   "metadata": {},
   "outputs": [
    {
     "name": "stdout",
     "output_type": "stream",
     "text": [
      "198\n"
     ]
    }
   ],
   "source": [
    "print(len(movie_dictionary))"
   ]
  },
  {
   "cell_type": "markdown",
   "metadata": {},
   "source": [
    "Now we want to do some exploratory data analysis on these scripts. First we will investigate the distribution of male and female pronouns in the scripts."
   ]
  },
  {
   "cell_type": "code",
   "execution_count": 8,
   "metadata": {},
   "outputs": [],
   "source": [
    "# I'm going to remove all punctuation so I don't need to worry about ends of sentences, etc, and\n",
    "# I will include the fully capitalised versions too since scripts often have these.\n",
    "\n",
    "male_pronouns = [\"he\", \"him\", \"his\", \"himself\", \n",
    "                 \"He\", \"Him\", \"His\", \"Himself\", \n",
    "                 \"HE\", \"HIM\", \"HIS\", \"HIMSELF\"]\n",
    "\n",
    "female_pronouns = [\"she\", \"her\", \"hers\", \"herself\", \n",
    "                   \"She\", \"Her\", \"Hers\", \"Herself\", \n",
    "                   \"SHE\", \"HER\", \"HERS\", \"HERSELF\"]\n"
   ]
  },
  {
   "cell_type": "markdown",
   "metadata": {},
   "source": [
    "Below is a short function that will remove all the punctuation from a string."
   ]
  },
  {
   "cell_type": "code",
   "execution_count": 9,
   "metadata": {},
   "outputs": [],
   "source": [
    "def remove_punctuation(string):\n",
    "    \n",
    "    punctuation = [\":\", \";\", \".\", \",\", \"!\", \"?\", \"...\", \"(\", \")\", \n",
    "                   \"<\", \">\", \"{\", \"}\", \"[\", \"]\", '\"', \"&\", \"'\", \"-\", \"_\"]\n",
    "    \n",
    "    for item in punctuation:\n",
    "        string = string.replace(item, \" \")\n",
    "    \n",
    "    return(string)"
   ]
  },
  {
   "cell_type": "markdown",
   "metadata": {},
   "source": [
    "Now we want to strip each script of its punctuation and tally how many times the male and female pronouns appear in each of them. We're also going to add a test movie to the dictionary so we can be sure that it's working properly."
   ]
  },
  {
   "cell_type": "code",
   "execution_count": 10,
   "metadata": {},
   "outputs": [],
   "source": [
    "movie_dictionary[\"My Fake Film\"] = \" SHE, HE: She. he! Him her them.\" # the count should be 3 male and 3 female pronouns"
   ]
  },
  {
   "cell_type": "code",
   "execution_count": 11,
   "metadata": {},
   "outputs": [
    {
     "name": "stdout",
     "output_type": "stream",
     "text": [
      "(3, 3)\n"
     ]
    }
   ],
   "source": [
    "pronoun_counter = {}\n",
    "\n",
    "for movie in movie_dictionary.keys():\n",
    "    \n",
    "    # first we want to get the movie script from the dictionary by key\n",
    "    # and remove all of its punctuation using the function we just made.\n",
    "    \n",
    "    script = remove_punctuation(movie_dictionary[movie]).split()\n",
    "    female, male = 0, 0\n",
    "    \n",
    "    # then we want to iterate over each of the pronouns in our lists and \n",
    "    # count how many times each of them appears. We could have done these in\n",
    "    # one for loop but I might need to add/remove some pronouns later.\n",
    "    \n",
    "    for f_pronoun in female_pronouns:\n",
    "        female += script.count(f_pronoun)\n",
    "    \n",
    "    for m_pronoun in male_pronouns:\n",
    "        male += script.count(m_pronoun)\n",
    "        \n",
    "    # then we're going to add the number of each pronoun as a tuple into a \n",
    "    # dictionary with the movie title being the key again.\n",
    "    \n",
    "    pronoun_counter[movie] = (female, male)\n",
    "\n",
    "print(pronoun_counter[\"My Fake Film\"])"
   ]
  },
  {
   "cell_type": "markdown",
   "metadata": {},
   "source": [
    "This can give us some confidence that this method is working properly.\n",
    "\n",
    "Now we want to do some analysis on these numbers by producing some plots."
   ]
  },
  {
   "cell_type": "code",
   "execution_count": 12,
   "metadata": {},
   "outputs": [],
   "source": [
    "pronouns_frame = pd.DataFrame(pronoun_counter).T\n",
    "pronouns_frame.columns = [\"F_PronounCount\", \"M_PronounCount\"]\n",
    "\n",
    "# the function below takes a list of film names and produces a bar plot comparing the\n",
    "# distribution of gender pronouns for each film.\n",
    "\n",
    "def create_movie_bar(movie_titles_list):\n",
    "    \n",
    "    try:\n",
    "        \n",
    "        mini_frame = pronouns_frame.loc[movie_titles_list]\n",
    "        mini_frame.plot(kind=\"bar\")\n",
    "        legend([\"F Pronouns\", \"M Pronouns\"])\n",
    "    \n",
    "    except KeyError:\n",
    "        \n",
    "        print(\"Whoops, there's been a little error. Try running this chunk again and it should be fine.\")"
   ]
  },
  {
   "cell_type": "markdown",
   "metadata": {},
   "source": [
    "The next chunk then generates a bar plot comparing 5 random movies from the list. In some cases there is a KeyError, and in some cases the movie script hasn't loaded properly so there's no data on the pronouns (or very little). Just run it the chunk again in these cases, it's only meant to be a demonstration."
   ]
  },
  {
   "cell_type": "code",
   "execution_count": 13,
   "metadata": {},
   "outputs": [
    {
     "data": {
      "image/png": "[encoded data removed]",
      "text/plain": [
       "<Figure size 432x288 with 1 Axes>"
      ]
     },
     "metadata": {
      "needs_background": "light"
     },
     "output_type": "display_data"
    }
   ],
   "source": [
    "movies_list = []\n",
    "\n",
    "for i in range(5):\n",
    "    rand = random.randint(0,len(movie_dictionary))\n",
    "    movies_list.append(movie_title_list_sub[rand].find(\"a\").text)\n",
    "\n",
    "create_movie_bar(movies_list)"
   ]
  },
  {
   "cell_type": "markdown",
   "metadata": {},
   "source": [
    "We can also generate some summary statistics for all of the scripts in our sample."
   ]
  },
  {
   "cell_type": "code",
   "execution_count": 14,
   "metadata": {},
   "outputs": [
    {
     "name": "stdout",
     "output_type": "stream",
     "text": [
      "Mean number of female pronouns per script: 265.6281407035176\n",
      "Mean number of male pronouns per script: 573.4070351758794\n",
      "Median number of female pronouns per script: 226.0\n",
      "Median number of male pronouns per script: 584.0\n",
      "Standard deviation for number of female pronouns per script: 220.06838333916903\n",
      "Standard deviation of male pronouns per script: 290.42899330520794\n"
     ]
    },
    {
     "data": {
      "image/png": "[encoded data removed]",
      "text/plain": [
       "<Figure size 432x288 with 1 Axes>"
      ]
     },
     "metadata": {
      "needs_background": "light"
     },
     "output_type": "display_data"
    }
   ],
   "source": [
    "pronouns_frame.boxplot(grid=False)\n",
    "\n",
    "print(\"Mean number of female pronouns per script: \"+str(pronouns_frame.mean()[0]))\n",
    "print(\"Mean number of male pronouns per script: \"+str(pronouns_frame.mean()[1]))\n",
    "print(\"Median number of female pronouns per script: \"+str(pronouns_frame.median()[0]))\n",
    "print(\"Median number of male pronouns per script: \"+str(pronouns_frame.median()[1]))\n",
    "print(\"Standard deviation for number of female pronouns per script: \"+str(pronouns_frame.std()[0]))\n",
    "print(\"Standard deviation of male pronouns per script: \"+str(pronouns_frame.std()[1]))\n"
   ]
  },
  {
   "cell_type": "markdown",
   "metadata": {},
   "source": [
    "Now clearly simply examining how many male and female pronouns there are in the script is not enough to see which pass the Bechdel test. However, it does go some way to demonstrating the continuing lack of prevalence of female characters in most films."
   ]
  }
 ],
 "metadata": {
  "kernelspec": {
   "display_name": "Python 3",
   "language": "python",
   "name": "python3"
  },
  "language_info": {
   "codemirror_mode": {
    "name": "ipython",
    "version": 3
   },
   "file_extension": ".py",
   "mimetype": "text/x-python",
   "name": "python",
   "nbconvert_exporter": "python",
   "pygments_lexer": "ipython3",
   "version": "3.7.6"
  }
 },
 "nbformat": 4,
 "nbformat_minor": 4
}
